{
 "cells": [
  {
   "cell_type": "code",
   "execution_count": 3,
   "metadata": {},
   "outputs": [],
   "source": [
    "import pandas as pd\n",
    "import numpy as np\n",
    "from sklearn.model_selection import train_test_split\n",
    "from sklearn.preprocessing import StandardScaler\n",
    "from sklearn.ensemble import RandomForestClassifier, RandomForestRegressor\n",
    "from sklearn.metrics import mean_squared_error, classification_report\n",
    "import shap \n",
    "import matplotlib.pyplot as plt\n",
    "\n",
    "customer_metrics = pd.read_csv('../data/processed/customer_segments.csv')"
   ]
  },
  {
   "cell_type": "code",
   "execution_count": 4,
   "metadata": {},
   "outputs": [],
   "source": [
    "def prepare_features_for_clv(data):\n",
    "  features = data.copy()\n",
    "\n",
    "  features['last_purchase'] = pd.to_datetime(features['last_purchase'])\n",
    "\n",
    "  features['recency'] = (features['last_purchase'].max() - features['last_purchase']).dt.days\n",
    "\n",
    "  features['avg_purchase_interval'] = features['customer_lifespan'] / features['order_count']\n",
    "\n",
    "  features['purchase_regularity'] = features['order_count'] / features['customer_lifespan']\n",
    "\n",
    "  model_features = ['recency', 'purchase_frequency', 'avg_order_value', 'avg_purchase_interval',              'purchase_regularity']\n",
    "\n",
    "  return features[model_features]\n",
    "\n",
    "X = prepare_features_for_clv(customer_metrics)\n",
    "Y = customer_metrics['total_spend']\n",
    "\n",
    "X_train, X_test, Y_train, Y_test = train_test_split(X, Y, test_size=0.2, random_state=42)\n",
    "\n",
    "scaler = StandardScaler()\n",
    "X_train_scaled = scaler.fit_transform(X_train)\n",
    "X_test_scaled = scaler.fit_transform(X_test)\n"
   ]
  },
  {
   "cell_type": "code",
   "execution_count": 7,
   "metadata": {},
   "outputs": [
    {
     "name": "stdout",
     "output_type": "stream",
     "text": [
      "CLV Model Performance:\n",
      "Training RMSE 2734.78\n",
      "Testing RMSE 10667.76\n"
     ]
    }
   ],
   "source": [
    "def train_clv_model(X_train, Y_train):\n",
    "  model = RandomForestRegressor(n_estimators=100, random_state=42)\n",
    "  model.fit(X_train, Y_train)\n",
    "  return model\n",
    "\n",
    "clv_model = train_clv_model(X_train_scaled, Y_train)\n",
    "\n",
    "train_predictions = clv_model.predict(X_train_scaled)\n",
    "test_predictions = clv_model.predict(X_test_scaled)\n",
    "\n",
    "print('CLV Model Performance:')\n",
    "print(f'Training RMSE {np.sqrt(mean_squared_error(Y_train, train_predictions)):.2f}')\n",
    "print(f'Testing RMSE {np.sqrt(mean_squared_error(Y_test, test_predictions)):.2f}')"
   ]
  }
 ],
 "metadata": {
  "kernelspec": {
   "display_name": "journeyenv",
   "language": "python",
   "name": "python3"
  },
  "language_info": {
   "codemirror_mode": {
    "name": "ipython",
    "version": 3
   },
   "file_extension": ".py",
   "mimetype": "text/x-python",
   "name": "python",
   "nbconvert_exporter": "python",
   "pygments_lexer": "ipython3",
   "version": "3.11.11"
  }
 },
 "nbformat": 4,
 "nbformat_minor": 2
}
