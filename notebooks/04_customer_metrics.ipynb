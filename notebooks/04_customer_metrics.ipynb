{
 "cells": [
  {
   "cell_type": "markdown",
   "metadata": {},
   "source": [
    "## 4 -> Customer Metrics"
   ]
  },
  {
   "cell_type": "markdown",
   "metadata": {},
   "source": [
    "### Reading Data"
   ]
  },
  {
   "cell_type": "code",
   "execution_count": 33,
   "metadata": {},
   "outputs": [],
   "source": [
    "import pandas as pd\n",
    "import numpy as np\n",
    "\n",
    "cleaned_df = pd.read_csv('../data/processed/cleaned_data.csv')\n",
    "cleaned_df['TotalAmount'] = cleaned_df['Quantity'] * cleaned_df['UnitPrice']"
   ]
  },
  {
   "cell_type": "markdown",
   "metadata": {},
   "source": [
    "### Calculating Customer Metrics"
   ]
  },
  {
   "cell_type": "code",
   "execution_count": 34,
   "metadata": {},
   "outputs": [],
   "source": [
    "customer_metrics = cleaned_df.groupby(by='CustomerID', as_index=False)\\\n",
    "  .agg(\n",
    "    TotalSpent = ('TotalAmount', 'sum'),\n",
    "    OrderCount = ('InvoiceNo', 'nunique'),\n",
    "    FirstInvoiceDate = ('InvoiceDate', 'min'),\n",
    "    LastInvoiceDate =('InvoiceDate', 'max')\n",
    "  )"
   ]
  },
  {
   "cell_type": "code",
   "execution_count": 35,
   "metadata": {},
   "outputs": [],
   "source": [
    "# customer_metrics = df.groupby(by='CustomerID', as_index=False)\\\n",
    "#   .agg({\n",
    "#     'InvoiceNo':'count', #total no of orders per customer\n",
    "#     'TotalAmount':['sum','mean'], #total amount ordered and average order amount\n",
    "#     'InvoiceDate': ['min', 'max'], #first and last purchase date\n",
    "# }).round(2)\n",
    "# customer_metrics.columns = ['order_count', 'total_spend', 'avg_order_value', 'first_purchase',  'last_purchase']"
   ]
  },
  {
   "cell_type": "code",
   "execution_count": 36,
   "metadata": {},
   "outputs": [],
   "source": [
    "customer_metrics['LastInvoiceDate'] = pd.to_datetime(customer_metrics['LastInvoiceDate'])\n",
    "customer_metrics['FirstInvoiceDate'] = pd.to_datetime(customer_metrics['FirstInvoiceDate'])\n",
    "\n",
    "customer_metrics['CustomerLifespan'] = (customer_metrics['LastInvoiceDate'] - customer_metrics['FirstInvoiceDate']).dt.days"
   ]
  },
  {
   "cell_type": "code",
   "execution_count": 37,
   "metadata": {},
   "outputs": [],
   "source": [
    "#using the maxinvoice date from the table instead of current date since the data is old\n",
    "max_invoice_date = customer_metrics['LastInvoiceDate'].max()\n",
    "\n",
    "customer_metrics['Recency'] = (max_invoice_date - customer_metrics['LastInvoiceDate']).dt.days"
   ]
  },
  {
   "cell_type": "code",
   "execution_count": 38,
   "metadata": {},
   "outputs": [],
   "source": [
    "customer_metrics['CustomerLifespan'] = np.where(customer_metrics['CustomerLifespan'] == 0, \\\n",
    "                                                1, customer_metrics['CustomerLifespan'])\n",
    "\n",
    "customer_metrics['PurchaseFrequency'] = (customer_metrics['OrderCount'] / (customer_metrics['CustomerLifespan'] / 30)\n",
    ").round(2)"
   ]
  },
  {
   "cell_type": "code",
   "execution_count": 39,
   "metadata": {},
   "outputs": [
    {
     "data": {
      "text/html": [
       "<div>\n",
       "<style scoped>\n",
       "    .dataframe tbody tr th:only-of-type {\n",
       "        vertical-align: middle;\n",
       "    }\n",
       "\n",
       "    .dataframe tbody tr th {\n",
       "        vertical-align: top;\n",
       "    }\n",
       "\n",
       "    .dataframe thead th {\n",
       "        text-align: right;\n",
       "    }\n",
       "</style>\n",
       "<table border=\"1\" class=\"dataframe\">\n",
       "  <thead>\n",
       "    <tr style=\"text-align: right;\">\n",
       "      <th></th>\n",
       "      <th>CustomerID</th>\n",
       "      <th>TotalSpent</th>\n",
       "      <th>OrderCount</th>\n",
       "      <th>FirstInvoiceDate</th>\n",
       "      <th>LastInvoiceDate</th>\n",
       "      <th>CustomerLifespan</th>\n",
       "      <th>Recency</th>\n",
       "      <th>PurchaseFrequency</th>\n",
       "    </tr>\n",
       "  </thead>\n",
       "  <tbody>\n",
       "    <tr>\n",
       "      <th>0</th>\n",
       "      <td>12346.0</td>\n",
       "      <td>77183.60</td>\n",
       "      <td>1</td>\n",
       "      <td>2011-01-18 10:01:00</td>\n",
       "      <td>2011-01-18 10:01:00</td>\n",
       "      <td>1</td>\n",
       "      <td>325</td>\n",
       "      <td>30.00</td>\n",
       "    </tr>\n",
       "    <tr>\n",
       "      <th>1</th>\n",
       "      <td>12347.0</td>\n",
       "      <td>4310.00</td>\n",
       "      <td>7</td>\n",
       "      <td>2010-12-07 14:57:00</td>\n",
       "      <td>2011-12-07 15:52:00</td>\n",
       "      <td>365</td>\n",
       "      <td>1</td>\n",
       "      <td>0.58</td>\n",
       "    </tr>\n",
       "    <tr>\n",
       "      <th>2</th>\n",
       "      <td>12348.0</td>\n",
       "      <td>1437.24</td>\n",
       "      <td>4</td>\n",
       "      <td>2010-12-16 19:09:00</td>\n",
       "      <td>2011-09-25 13:13:00</td>\n",
       "      <td>282</td>\n",
       "      <td>74</td>\n",
       "      <td>0.43</td>\n",
       "    </tr>\n",
       "    <tr>\n",
       "      <th>3</th>\n",
       "      <td>12349.0</td>\n",
       "      <td>1457.55</td>\n",
       "      <td>1</td>\n",
       "      <td>2011-11-21 09:51:00</td>\n",
       "      <td>2011-11-21 09:51:00</td>\n",
       "      <td>1</td>\n",
       "      <td>18</td>\n",
       "      <td>30.00</td>\n",
       "    </tr>\n",
       "    <tr>\n",
       "      <th>4</th>\n",
       "      <td>12350.0</td>\n",
       "      <td>294.40</td>\n",
       "      <td>1</td>\n",
       "      <td>2011-02-02 16:01:00</td>\n",
       "      <td>2011-02-02 16:01:00</td>\n",
       "      <td>1</td>\n",
       "      <td>309</td>\n",
       "      <td>30.00</td>\n",
       "    </tr>\n",
       "  </tbody>\n",
       "</table>\n",
       "</div>"
      ],
      "text/plain": [
       "   CustomerID  TotalSpent  OrderCount    FirstInvoiceDate     LastInvoiceDate  \\\n",
       "0     12346.0    77183.60           1 2011-01-18 10:01:00 2011-01-18 10:01:00   \n",
       "1     12347.0     4310.00           7 2010-12-07 14:57:00 2011-12-07 15:52:00   \n",
       "2     12348.0     1437.24           4 2010-12-16 19:09:00 2011-09-25 13:13:00   \n",
       "3     12349.0     1457.55           1 2011-11-21 09:51:00 2011-11-21 09:51:00   \n",
       "4     12350.0      294.40           1 2011-02-02 16:01:00 2011-02-02 16:01:00   \n",
       "\n",
       "   CustomerLifespan  Recency  PurchaseFrequency  \n",
       "0                 1      325              30.00  \n",
       "1               365        1               0.58  \n",
       "2               282       74               0.43  \n",
       "3                 1       18              30.00  \n",
       "4                 1      309              30.00  "
      ]
     },
     "execution_count": 39,
     "metadata": {},
     "output_type": "execute_result"
    }
   ],
   "source": [
    "customer_metrics.head()"
   ]
  },
  {
   "cell_type": "markdown",
   "metadata": {},
   "source": [
    "### Exporting Data"
   ]
  },
  {
   "cell_type": "code",
   "execution_count": 40,
   "metadata": {},
   "outputs": [],
   "source": [
    "customer_metrics.to_csv('../data/processed/customer_metrics.csv', index=False)"
   ]
  }
 ],
 "metadata": {
  "kernelspec": {
   "display_name": "journeyenv",
   "language": "python",
   "name": "python3"
  },
  "language_info": {
   "codemirror_mode": {
    "name": "ipython",
    "version": 3
   },
   "file_extension": ".py",
   "mimetype": "text/x-python",
   "name": "python",
   "nbconvert_exporter": "python",
   "pygments_lexer": "ipython3",
   "version": "3.11.11"
  }
 },
 "nbformat": 4,
 "nbformat_minor": 2
}
