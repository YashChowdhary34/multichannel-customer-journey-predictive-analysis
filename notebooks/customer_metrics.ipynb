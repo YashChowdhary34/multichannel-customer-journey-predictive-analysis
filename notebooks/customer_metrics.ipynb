{
 "cells": [
  {
   "cell_type": "markdown",
   "metadata": {},
   "source": [
    "## 4 -> Customer Metrics"
   ]
  },
  {
   "cell_type": "markdown",
   "metadata": {},
   "source": [
    "### Reading Data"
   ]
  },
  {
   "cell_type": "code",
   "execution_count": 22,
   "metadata": {},
   "outputs": [],
   "source": [
    "import pandas as pd\n",
    "import numpy as np\n",
    "\n",
    "df = pd.read_csv('../data/processed/feature_engineered.csv')\n",
    "df['InvoiceDate'] = pd.to_datetime(df['InvoiceDate'])"
   ]
  },
  {
   "cell_type": "markdown",
   "metadata": {},
   "source": [
    "### Calculating Customer Metrics"
   ]
  },
  {
   "cell_type": "code",
   "execution_count": 23,
   "metadata": {},
   "outputs": [],
   "source": [
    "customer_metrics = df.groupby('CustomerID').agg({\n",
    "  'InvoiceNo':'count', #total no of orders per customer\n",
    "  'TotalAmount':['sum','mean'], #total amount ordered and average order amount\n",
    "  'InvoiceDate': ['min', 'max'], #first and last purchase date\n",
    "}).round(2)"
   ]
  },
  {
   "cell_type": "code",
   "execution_count": 24,
   "metadata": {},
   "outputs": [],
   "source": [
    "customer_metrics.columns = ['order_count', 'total_spend', 'avg_order_value', 'first_purchase',  'last_purchase']"
   ]
  },
  {
   "cell_type": "code",
   "execution_count": 25,
   "metadata": {},
   "outputs": [],
   "source": [
    "customer_metrics['customer_lifespan'] = (\n",
    "  pd.to_datetime(customer_metrics['last_purchase']) - pd.to_datetime(customer_metrics['first_purchase'])\n",
    ").dt.days"
   ]
  },
  {
   "cell_type": "code",
   "execution_count": 26,
   "metadata": {},
   "outputs": [],
   "source": [
    "customer_metrics['customer_lifespan'] = np.where(customer_metrics['customer_lifespan'] == 0, 1, customer_metrics['customer_lifespan'])\n",
    "\n",
    "customer_metrics['purchase_frequency'] = (\n",
    "  customer_metrics['order_count'] / \n",
    "    (customer_metrics['customer_lifespan'] / 30)\n",
    ").round(2)"
   ]
  },
  {
   "cell_type": "code",
   "execution_count": 27,
   "metadata": {},
   "outputs": [
    {
     "data": {
      "text/html": [
       "<div>\n",
       "<style scoped>\n",
       "    .dataframe tbody tr th:only-of-type {\n",
       "        vertical-align: middle;\n",
       "    }\n",
       "\n",
       "    .dataframe tbody tr th {\n",
       "        vertical-align: top;\n",
       "    }\n",
       "\n",
       "    .dataframe thead th {\n",
       "        text-align: right;\n",
       "    }\n",
       "</style>\n",
       "<table border=\"1\" class=\"dataframe\">\n",
       "  <thead>\n",
       "    <tr style=\"text-align: right;\">\n",
       "      <th></th>\n",
       "      <th>order_count</th>\n",
       "      <th>total_spend</th>\n",
       "      <th>avg_order_value</th>\n",
       "      <th>first_purchase</th>\n",
       "      <th>last_purchase</th>\n",
       "      <th>customer_lifespan</th>\n",
       "      <th>purchase_frequency</th>\n",
       "    </tr>\n",
       "    <tr>\n",
       "      <th>CustomerID</th>\n",
       "      <th></th>\n",
       "      <th></th>\n",
       "      <th></th>\n",
       "      <th></th>\n",
       "      <th></th>\n",
       "      <th></th>\n",
       "      <th></th>\n",
       "    </tr>\n",
       "  </thead>\n",
       "  <tbody>\n",
       "    <tr>\n",
       "      <th>12346</th>\n",
       "      <td>1</td>\n",
       "      <td>77183.60</td>\n",
       "      <td>77183.60</td>\n",
       "      <td>2011-01-18 10:01:00</td>\n",
       "      <td>2011-01-18 10:01:00</td>\n",
       "      <td>1</td>\n",
       "      <td>30.00</td>\n",
       "    </tr>\n",
       "    <tr>\n",
       "      <th>12347</th>\n",
       "      <td>182</td>\n",
       "      <td>4310.00</td>\n",
       "      <td>23.68</td>\n",
       "      <td>2010-12-07 14:57:00</td>\n",
       "      <td>2011-12-07 15:52:00</td>\n",
       "      <td>365</td>\n",
       "      <td>14.96</td>\n",
       "    </tr>\n",
       "    <tr>\n",
       "      <th>12348</th>\n",
       "      <td>31</td>\n",
       "      <td>1797.24</td>\n",
       "      <td>57.98</td>\n",
       "      <td>2010-12-16 19:09:00</td>\n",
       "      <td>2011-09-25 13:13:00</td>\n",
       "      <td>282</td>\n",
       "      <td>3.30</td>\n",
       "    </tr>\n",
       "    <tr>\n",
       "      <th>12349</th>\n",
       "      <td>73</td>\n",
       "      <td>1757.55</td>\n",
       "      <td>24.08</td>\n",
       "      <td>2011-11-21 09:51:00</td>\n",
       "      <td>2011-11-21 09:51:00</td>\n",
       "      <td>1</td>\n",
       "      <td>2190.00</td>\n",
       "    </tr>\n",
       "    <tr>\n",
       "      <th>12350</th>\n",
       "      <td>17</td>\n",
       "      <td>334.40</td>\n",
       "      <td>19.67</td>\n",
       "      <td>2011-02-02 16:01:00</td>\n",
       "      <td>2011-02-02 16:01:00</td>\n",
       "      <td>1</td>\n",
       "      <td>510.00</td>\n",
       "    </tr>\n",
       "  </tbody>\n",
       "</table>\n",
       "</div>"
      ],
      "text/plain": [
       "            order_count  total_spend  avg_order_value      first_purchase  \\\n",
       "CustomerID                                                                  \n",
       "12346                 1     77183.60         77183.60 2011-01-18 10:01:00   \n",
       "12347               182      4310.00            23.68 2010-12-07 14:57:00   \n",
       "12348                31      1797.24            57.98 2010-12-16 19:09:00   \n",
       "12349                73      1757.55            24.08 2011-11-21 09:51:00   \n",
       "12350                17       334.40            19.67 2011-02-02 16:01:00   \n",
       "\n",
       "                 last_purchase  customer_lifespan  purchase_frequency  \n",
       "CustomerID                                                             \n",
       "12346      2011-01-18 10:01:00                  1               30.00  \n",
       "12347      2011-12-07 15:52:00                365               14.96  \n",
       "12348      2011-09-25 13:13:00                282                3.30  \n",
       "12349      2011-11-21 09:51:00                  1             2190.00  \n",
       "12350      2011-02-02 16:01:00                  1              510.00  "
      ]
     },
     "execution_count": 27,
     "metadata": {},
     "output_type": "execute_result"
    }
   ],
   "source": [
    "customer_metrics.head()"
   ]
  },
  {
   "cell_type": "markdown",
   "metadata": {},
   "source": [
    "### Exporting Data"
   ]
  },
  {
   "cell_type": "code",
   "execution_count": 28,
   "metadata": {},
   "outputs": [],
   "source": [
    "customer_metrics.to_csv('../data/processed/customer_metrics.csv')"
   ]
  }
 ],
 "metadata": {
  "kernelspec": {
   "display_name": "journeyenv",
   "language": "python",
   "name": "python3"
  },
  "language_info": {
   "codemirror_mode": {
    "name": "ipython",
    "version": 3
   },
   "file_extension": ".py",
   "mimetype": "text/x-python",
   "name": "python",
   "nbconvert_exporter": "python",
   "pygments_lexer": "ipython3",
   "version": "3.11.11"
  }
 },
 "nbformat": 4,
 "nbformat_minor": 2
}
