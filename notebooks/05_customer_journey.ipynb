{
 "cells": [
  {
   "cell_type": "markdown",
   "metadata": {},
   "source": [
    "## 5 -> Customer Journey Analysis"
   ]
  },
  {
   "cell_type": "markdown",
   "metadata": {},
   "source": [
    "### Importing Data"
   ]
  },
  {
   "cell_type": "code",
   "execution_count": 1,
   "metadata": {},
   "outputs": [],
   "source": [
    "import pandas as pd\n",
    "import numpy as np\n",
    "\n",
    "df = pd.read_csv('../data/processed/feature_engineered.csv')\n",
    "df['InvoiceDate'] = pd.to_datetime(df['InvoiceDate'])"
   ]
  },
  {
   "cell_type": "markdown",
   "metadata": {},
   "source": [
    "### Journey Events"
   ]
  },
  {
   "cell_type": "code",
   "execution_count": 2,
   "metadata": {},
   "outputs": [
    {
     "name": "stdout",
     "output_type": "stream",
     "text": [
      "       InvoiceNo StockCode                        Description  Quantity  \\\n",
      "37120     541431     23166     MEDIUM CERAMIC TOP STORAGE JAR     74215   \n",
      "10515     537626     85116    BLACK CANDELABRA T-LIGHT HOLDER        12   \n",
      "10516     537626     22375  AIRLINE BAG VINTAGE JET SET BROWN         4   \n",
      "10517     537626     71477  COLOUR GLASS. STAR T-LIGHT HOLDER        12   \n",
      "10518     537626     22492            MINI PAINT SET VINTAGE         36   \n",
      "\n",
      "              InvoiceDate  UnitPrice  CustomerID         Country  TotalAmount  \\\n",
      "37120 2011-01-18 10:01:00       1.04       12346  United Kingdom      77183.6   \n",
      "10515 2010-12-07 14:57:00       2.10       12347         Iceland         25.2   \n",
      "10516 2010-12-07 14:57:00       4.25       12347         Iceland         17.0   \n",
      "10517 2010-12-07 14:57:00       3.25       12347         Iceland         39.0   \n",
      "10518 2010-12-07 14:57:00       0.65       12347         Iceland         23.4   \n",
      "\n",
      "       Year  Month  DayOfWeek  HourOfDay  TimeOfDay  purchase_number  \\\n",
      "37120  2011      1          1         10    Morning                1   \n",
      "10515  2010     12          1         14  Afternoon                1   \n",
      "10516  2010     12          1         14  Afternoon                2   \n",
      "10517  2010     12          1         14  Afternoon                3   \n",
      "10518  2010     12          1         14  Afternoon                4   \n",
      "\n",
      "       days_since_last_purchase  \n",
      "37120                       NaN  \n",
      "10515                       NaN  \n",
      "10516                       0.0  \n",
      "10517                       0.0  \n",
      "10518                       0.0  \n"
     ]
    }
   ],
   "source": [
    "def create_journey_events(df):\n",
    "  events = df.sort_values(['CustomerID', 'InvoiceDate'])\n",
    "\n",
    "  events['purchase_number'] = df.groupby('CustomerID').cumcount() + 1\n",
    "\n",
    "  events['days_since_last_purchase'] = events.groupby('CustomerID')['InvoiceDate'].diff().dt.days\n",
    "\n",
    "  return events\n",
    "\n",
    "journey_events = create_journey_events(df)\n",
    "print(journey_events.head())"
   ]
  },
  {
   "cell_type": "markdown",
   "metadata": {},
   "source": [
    "### Journey Summary"
   ]
  },
  {
   "cell_type": "code",
   "execution_count": 3,
   "metadata": {},
   "outputs": [
    {
     "name": "stdout",
     "output_type": "stream",
     "text": [
      "                 total_orders  avg_order_amount  \\\n",
      "purchase_number                                   \n",
      "1                        4338             57.24   \n",
      "2                        4267             39.47   \n",
      "3                        4213             69.69   \n",
      "4                        4159             27.66   \n",
      "5                        4111             27.38   \n",
      "\n",
      "                 avg_days_gap_between_purchases  \n",
      "purchase_number                                  \n",
      "1                                           NaN  \n",
      "2                                          1.84  \n",
      "3                                          1.61  \n",
      "4                                          1.99  \n",
      "5                                          1.42  \n"
     ]
    }
   ],
   "source": [
    "journey_summary = journey_events.groupby('purchase_number').agg({\n",
    "  'CustomerID': 'count',\n",
    "  'TotalAmount': 'mean',\n",
    "  'days_since_last_purchase': 'mean'\n",
    "}).round(2)\n",
    "\n",
    "journey_summary.columns = ['total_orders', 'avg_order_amount', 'avg_days_gap_between_purchases']\n",
    "print(journey_summary.head())"
   ]
  },
  {
   "cell_type": "markdown",
   "metadata": {},
   "source": [
    "### Exporting Data"
   ]
  },
  {
   "cell_type": "code",
   "execution_count": 4,
   "metadata": {},
   "outputs": [],
   "source": [
    "journey_events.to_csv('../data/processed/customer_journey.csv', index=False)\n",
    "journey_summary.to_csv('../data/processed/journey_summary.csv')"
   ]
  }
 ],
 "metadata": {
  "kernelspec": {
   "display_name": "journeyenv",
   "language": "python",
   "name": "python3"
  },
  "language_info": {
   "codemirror_mode": {
    "name": "ipython",
    "version": 3
   },
   "file_extension": ".py",
   "mimetype": "text/x-python",
   "name": "python",
   "nbconvert_exporter": "python",
   "pygments_lexer": "ipython3",
   "version": "3.11.11"
  }
 },
 "nbformat": 4,
 "nbformat_minor": 2
}
